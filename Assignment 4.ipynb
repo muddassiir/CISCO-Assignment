{
 "cells": [
  {
   "cell_type": "code",
   "execution_count": 2,
   "metadata": {},
   "outputs": [
    {
     "name": "stdout",
     "output_type": "stream",
     "text": [
      "first_name : Muhammad\n",
      "last_name : Muddassir\n",
      "age : 20\n",
      "city : Karachi\n",
      "=============================================\n",
      "\n",
      "Add Qualification \n",
      "\n",
      "qualification : Intermediate\n",
      "=============================================\n",
      "\n",
      "Update Qualification \n",
      "\n",
      "first_name : Muhammad\n",
      "last_name : Muddassir\n",
      "age : 20\n",
      "city : Karachi\n",
      "qualification : High Academic\n",
      "=============================================\n",
      "\n",
      "Delete Qualification \n",
      "\n",
      "{'first_name': 'Muhammad', 'last_name': 'Muddassir', 'age': 20, 'city': 'Karachi'}\n"
     ]
    }
   ],
   "source": [
    "person_dict={'first_name':'Muhammad','last_name':'Muddassir',\n",
    "            'age':20,'city':'Karachi'}\n",
    "\n",
    "for key, value in person_dict.items():\n",
    "    print(key,\":\",value)\n",
    "print(\"=============================================\")\n",
    "print(\"\\nAdd Qualification \\n\")\n",
    "person_dict[\"qualification\"]=\"Intermediate\"\n",
    "print('qualification :',person_dict[\"qualification\"])\n",
    "print(\"=============================================\")\n",
    "print(\"\\nUpdate Qualification \\n\")\n",
    "person_dict[\"qualification\"]=\"High Academic\"\n",
    "for key, value in person_dict.items():\n",
    "    print(key,\":\",value)\n",
    "print(\"=============================================\")\n",
    "print(\"\\nDelete Qualification \\n\")\n",
    "del person_dict[\"qualification\"]\n",
    "print(person_dict)"
   ]
  },
  {
   "cell_type": "code",
   "execution_count": 4,
   "metadata": {},
   "outputs": [
    {
     "name": "stdout",
     "output_type": "stream",
     "text": [
      "\n",
      "Karachi\n",
      "\n",
      "country : Pakistan\n",
      "population : 15741000\n",
      "fact : Karachi is the backbone of Pakistan's economy, contributing 42 per cent of GDP,\n",
      "        70 per cent of income tax revenue and 62 per cent of sales tax revenue\n",
      "\n",
      "Lahore\n",
      "\n",
      "country : Pakistan\n",
      "population : 12188000\n",
      "fact : Lahore is the capital city of the Pakistani province of Punjab.\n",
      "        It is the second largest and most populated city in Pakistan\n",
      "\n",
      "Islamabad\n",
      "\n",
      "country : Pakistan\n",
      "population : 1095064\n",
      "fact : Islamabad is the capital of the top adventurous place Pakistan.This city\n",
      "        is famous due to the many parks, forests, greenery, breathtaking sites, safety,\n",
      "        high living standard, world fourth largest mosque and the Margalla Hills National park.\n",
      "        recently, United Nation of Organization conisder this city as the most save city in the world\n"
     ]
    }
   ],
   "source": [
    "cities={\n",
    "    \"Karachi\":{\n",
    "        \"country\"   :\"Pakistan\",\n",
    "        \"population\":15741000,\n",
    "        \"fact\"      :\"\"\"Karachi is the backbone of Pakistan's economy, contributing 42 per cent of GDP,\n",
    "        70 per cent of income tax revenue and 62 per cent of sales tax revenue\"\"\"\n",
    "    },\n",
    "    \"Lahore\":{\n",
    "        \"country\"   :\"Pakistan\",\n",
    "        \"population\":12188000,\n",
    "        \"fact\"      :\"\"\"Lahore is the capital city of the Pakistani province of Punjab.\n",
    "        It is the second largest and most populated city in Pakistan\"\"\"\n",
    "    },\n",
    "    \"Islamabad\":{\n",
    "        \"country\"   :\"Pakistan\",\n",
    "        \"population\":1095064,\n",
    "        \"fact\"      :\"\"\"Islamabad is the capital of the top adventurous place Pakistan.This city\n",
    "        is famous due to the many parks, forests, greenery, breathtaking sites, safety,\n",
    "        high living standard, world fourth largest mosque and the Margalla Hills National park.\n",
    "        recently, United Nation of Organization conisder this city as the most save city in the world\"\"\"\n",
    "    }\n",
    "}\n",
    "for citykey,cityinfo in cities.items():\n",
    "    print(\"\\n\"+citykey+\"\\n\")\n",
    "    for city in cityinfo:\n",
    "        print(city,\":\",str(cityinfo[city]))"
   ]
  },
  {
   "cell_type": "code",
   "execution_count": 6,
   "metadata": {},
   "outputs": [
    {
     "name": "stdout",
     "output_type": "stream",
     "text": [
      "Enter age : 20\n",
      "Ticket is 15$\n",
      "Are you want to take ticket y/n: n\n"
     ]
    }
   ],
   "source": [
    "con='y'\n",
    "while con!='n':\n",
    "    age=int(input(\"Enter age : \"))\n",
    "    if age>12:\n",
    "        print(\"Ticket is 15$\")\n",
    "    elif age>=3:\n",
    "        print(\"Ticket is 10$\")\n",
    "    else:\n",
    "        print(\"Ticket is free\")\n",
    "    con=input(\"Are you want to take ticket y/n: \")"
   ]
  },
  {
   "cell_type": "code",
   "execution_count": 8,
   "metadata": {},
   "outputs": [
    {
     "name": "stdout",
     "output_type": "stream",
     "text": [
      "One of my favorite books is The Holy Quran\n"
     ]
    }
   ],
   "source": [
    "def favorite_book(title):\n",
    "    print(title)\n",
    "\n",
    "book_title=\"One of my favorite books is The Holy Quran\"\n",
    "favorite_book(book_title)"
   ]
  },
  {
   "cell_type": "code",
   "execution_count": 11,
   "metadata": {},
   "outputs": [
    {
     "name": "stdout",
     "output_type": "stream",
     "text": [
      "You Have 3 chances to guess the number\n",
      "\n",
      "Enter number between 1 and 30: 10\n",
      "Hidden number is greater\n",
      "\n",
      "Enter number between 1 and 30: 15\n",
      "Hidden number is greater\n",
      "\n",
      "Enter number between 1 and 30: 20\n",
      "You guess the correct Number\n"
     ]
    }
   ],
   "source": [
    "import random\n",
    "a=0\n",
    "Rand_Number=0\n",
    "print('You Have 3 chances to guess the number\\n')\n",
    "Rand_Number=int(random.randrange(1,30))\n",
    "while a<3:\n",
    "    userNumber=int(input(\"Enter number between 1 and 30: \"))\n",
    "    a+=1\n",
    "    if Rand_Number>userNumber:\n",
    "        print(\"Hidden number is greater\\n\")\n",
    "    elif Rand_Number<userNumber:\n",
    "        print(\"Hidden number is Smaller\\n\")\n",
    "    else:\n",
    "        print(\"You guess the correct Number\")\n",
    "        break"
   ]
  },
  {
   "cell_type": "code",
   "execution_count": null,
   "metadata": {},
   "outputs": [],
   "source": []
  }
 ],
 "metadata": {
  "kernelspec": {
   "display_name": "Python 3",
   "language": "python",
   "name": "python3"
  },
  "language_info": {
   "codemirror_mode": {
    "name": "ipython",
    "version": 3
   },
   "file_extension": ".py",
   "mimetype": "text/x-python",
   "name": "python",
   "nbconvert_exporter": "python",
   "pygments_lexer": "ipython3",
   "version": "3.7.0"
  }
 },
 "nbformat": 4,
 "nbformat_minor": 2
}
