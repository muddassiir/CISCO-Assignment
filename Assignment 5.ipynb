{
 "cells": [
  {
   "cell_type": "code",
   "execution_count": 1,
   "metadata": {},
   "outputs": [
    {
     "name": "stdout",
     "output_type": "stream",
     "text": [
      "Enter number5\n",
      "The factorial of 5 is 120\n"
     ]
    }
   ],
   "source": [
    "def fact(num=int(input(\"Enter number\"))):\n",
    "    factor=1\n",
    "    if num < 0:\n",
    "        print(\"Sorry, factorial does not exist for negative numbers\")\n",
    "    elif num == 0:\n",
    "            print(\"The factorial of 0 is 1\")\n",
    "    else:\n",
    "        for i in range(1,num + 1):\n",
    "            factor = factor*i\n",
    "        print(\"The factorial of\",num,\"is\",factor)\n",
    "fact()"
   ]
  },
  {
   "cell_type": "code",
   "execution_count": 2,
   "metadata": {},
   "outputs": [
    {
     "name": "stdout",
     "output_type": "stream",
     "text": [
      "Enter String :MuDDasSiR\n",
      "Upper Letters :  5 \n",
      "Lower Letters :  4\n"
     ]
    }
   ],
   "source": [
    "name=str(input(\"Enter String :\"))\n",
    "upper_letter_count=0\n",
    "lower_letter_count=0\n",
    "for i in name:\n",
    "    if i==i.upper():\n",
    "        upper_letter_count += 1\n",
    "    elif i==i.lower():\n",
    "        lower_letter_count += 1\n",
    "    else:\n",
    "        \"no letter\"\n",
    "print(\"Upper Letters : \",upper_letter_count,\"\\nLower Letters : \",lower_letter_count)"
   ]
  },
  {
   "cell_type": "code",
   "execution_count": 3,
   "metadata": {},
   "outputs": [
    {
     "name": "stdout",
     "output_type": "stream",
     "text": [
      "2  0  12  "
     ]
    }
   ],
   "source": [
    "lst=[2,3,5,0,12,9,7]\n",
    "for i in lst:\n",
    "    if i%2==0:\n",
    "        print(i,\" \",end='')"
   ]
  },
  {
   "cell_type": "code",
   "execution_count": 4,
   "metadata": {},
   "outputs": [
    {
     "name": "stdout",
     "output_type": "stream",
     "text": [
      "The string is palindrome\n"
     ]
    }
   ],
   "source": [
    "def chck(name):\n",
    "        name=name.lower()\n",
    "        if name==name[::-1]:\n",
    "             print(\"The string is palindrome\")\n",
    "        else:\n",
    "             print(\"The string is not palindrome\")\n",
    "chck(\"Madam\")"
   ]
  },
  {
   "cell_type": "code",
   "execution_count": 5,
   "metadata": {},
   "outputs": [
    {
     "name": "stdout",
     "output_type": "stream",
     "text": [
      "The number is not prime\n"
     ]
    }
   ],
   "source": [
    "def prime(num):\n",
    "    for i in range(2,num):\n",
    "        if num % i == 0:\n",
    "            print(\"The number is not prime\")\n",
    "        else:\n",
    "            print(\"The number is prime\")\n",
    "        break\n",
    "prime(8)"
   ]
  },
  {
   "cell_type": "code",
   "execution_count": 6,
   "metadata": {},
   "outputs": [
    {
     "name": "stdout",
     "output_type": "stream",
     "text": [
      "ali\n",
      "989\n",
      "('Mango', 'Apple', 'Banana', 'Pinepple', 'Orange')\n"
     ]
    }
   ],
   "source": [
    "def customer(name,order_num,*shop_list):\n",
    "    print(name)\n",
    "    print(order_num)\n",
    "    print(shop_list)\n",
    "customer(\"ali\",989,\"Mango\",\"Apple\",\"Banana\",\"Pinepple\",\"Orange\")"
   ]
  },
  {
   "cell_type": "code",
   "execution_count": null,
   "metadata": {},
   "outputs": [],
   "source": []
  },
  {
   "cell_type": "code",
   "execution_count": null,
   "metadata": {},
   "outputs": [],
   "source": []
  }
 ],
 "metadata": {
  "kernelspec": {
   "display_name": "Python 3",
   "language": "python",
   "name": "python3"
  },
  "language_info": {
   "codemirror_mode": {
    "name": "ipython",
    "version": 3
   },
   "file_extension": ".py",
   "mimetype": "text/x-python",
   "name": "python",
   "nbconvert_exporter": "python",
   "pygments_lexer": "ipython3",
   "version": "3.7.0"
  }
 },
 "nbformat": 4,
 "nbformat_minor": 2
}
