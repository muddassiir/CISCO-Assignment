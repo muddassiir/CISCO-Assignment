{
 "cells": [
  {
   "cell_type": "code",
   "execution_count": 10,
   "metadata": {},
   "outputs": [
    {
     "name": "stdout",
     "output_type": "stream",
     "text": [
      "Q no 1: define object oriented programming? \n",
      " \n",
      "\n",
      "Ans: Object-oriented programming is a programming based on the concept of \"objects\", which contain data, in the form of fields, and code, in the form of procedures.\n"
     ]
    }
   ],
   "source": [
    "print(\"Q no 1: define object oriented programming? \\n \\n\")\n",
    "print(\"Ans: Object-oriented programming is a programming based on the concept of \\\"objects\\\", which contain data, in the form of fields, and code, in the form of procedures.\")"
   ]
  },
  {
   "cell_type": "code",
   "execution_count": 8,
   "metadata": {},
   "outputs": [
    {
     "name": "stdout",
     "output_type": "stream",
     "text": [
      "Qno 2: define benefits of oop? \n",
      " \n",
      "\n",
      "1) Reusability \n",
      "2) Extensibility \n",
      "3) Simplicity / Understandibiliy \n",
      "4) Decomposibility \n",
      "5) compos ability \n",
      "6) Security\n"
     ]
    }
   ],
   "source": [
    "print(\"Qno 2: define benefits of oop? \\n \\n\")\n",
    "print(\"1) Reusability \\n2) Extensibility \\n3) Simplicity / Understandibiliy \\n4) Decomposibility \\n5) compos ability \\n6) Security\")"
   ]
  },
  {
   "cell_type": "code",
   "execution_count": 9,
   "metadata": {},
   "outputs": [
    {
     "name": "stdout",
     "output_type": "stream",
     "text": [
      "Q no 3: diffrenciate between func and method?\n",
      " \n",
      "\n",
      "Ans: A function is a piece of code that is called by name. It can be passed data to operate on (i.e. the parameters) and can optionally return data (the return value). All data that is passed to a function is explicitly passed. A method is a piece of code that is called by a name that is associated with an object.\n"
     ]
    }
   ],
   "source": [
    "print(\"Q no 3: diffrenciate between func and method?\\n \\n\")\n",
    "print(\"Ans: A function is a piece of code that is called by name. It can be passed data to operate on (i.e. the parameters) and can optionally return data (the return value). All data that is passed to a function is explicitly passed. A method is a piece of code that is called by a name that is associated with an object.\")"
   ]
  },
  {
   "cell_type": "code",
   "execution_count": 12,
   "metadata": {},
   "outputs": [
    {
     "name": "stdout",
     "output_type": "stream",
     "text": [
      "Q no 4: define \n",
      "i) Class. \n",
      "ii) Attribute. \n",
      "iii) Object. \n",
      "iv)  Behavior.\n",
      " \n",
      "\n",
      "CLASS:\n",
      "A class is an extensible program-code-template for creating objects, providing initial values for state and implementations of behavior.\n",
      "\n",
      "ATTRIBUTE:\n",
      "A class attribute is a Python variable that belongs to a class rather than a particular object.\n",
      "\n",
      "OBJECT:\n",
      "Object is simply a collection of data (variables) and methods (functions) that act on those data. \n",
      "\n",
      "BEHAVIOUR :\n",
      "Objects in Python are generally classified according to their behaviors and the features that they implement. For example, all of the sequence types such as strings, lists, and tuples are grouped together merely because they all happen to support a common set of sequence operations such as s[n], len(s), etc.\n"
     ]
    }
   ],
   "source": [
    "print(\"Q no 4: define \\ni) Class. \\nii) Attribute. \\niii) Object. \\niv)  Behavior.\\n \\n\")\n",
    "print(\"CLASS:\\nA class is an extensible program-code-template for creating objects, providing initial values for state and implementations of behavior.\\n\\nATTRIBUTE:\\nA class attribute is a Python variable that belongs to a class rather than a particular object.\\n\\nOBJECT:\\nObject is simply a collection of data (variables) and methods (functions) that act on those data. \\n\\nBEHAVIOUR :\\nObjects in Python are generally classified according to their behaviors and the features that they implement. For example, all of the sequence types such as strings, lists, and tuples are grouped together merely because they all happen to support a common set of sequence operations such as s[n], len(s), etc.\")"
   ]
  },
  {
   "cell_type": "code",
   "execution_count": 15,
   "metadata": {},
   "outputs": [
    {
     "name": "stdout",
     "output_type": "stream",
     "text": [
      "This car name is :  Corolla\n",
      "Suzuki\n",
      "ayz-212\n"
     ]
    }
   ],
   "source": [
    "class Car:\n",
    "    def __init__(self,model,color,name,company,number):\n",
    "        self.model=model\n",
    "        self.color=color\n",
    "        self.name=name\n",
    "        self.company=company\n",
    "        self.number=number\n",
    "        \n",
    "    def print_name(self):\n",
    "        print(\"This car name is : \",self.name)\n",
    "            \n",
    "    def print_UPdatecompany(self):\n",
    "        self.company=\"Suzuki\"\n",
    "        print(self.company)\n",
    "            \n",
    "    def print_number(self):\n",
    "        print(self.number)\n",
    "            \n",
    "car1=Car('2019','Black','Corolla','Toyota','abx-2132')\n",
    "car2=Car('2018','white','VIGO','Toyota','ayz-212')\n",
    "car3=Car('2017','Red','land Cruiser','Toyota','cda-132')\n",
    "car4=Car('2016','Blue','Civic','Honda','zzw-32')\n",
    "car5=Car('2015','mate Black','City','Honda','Ax-22')\n",
    "\n",
    "\n",
    "\n",
    "car1.print_name()\n",
    "car2.print_UPdatecompany()\n",
    "car2.print_number()"
   ]
  },
  {
   "cell_type": "code",
   "execution_count": null,
   "metadata": {},
   "outputs": [],
   "source": []
  }
 ],
 "metadata": {
  "kernelspec": {
   "display_name": "Python 3",
   "language": "python",
   "name": "python3"
  },
  "language_info": {
   "codemirror_mode": {
    "name": "ipython",
    "version": 3
   },
   "file_extension": ".py",
   "mimetype": "text/x-python",
   "name": "python",
   "nbconvert_exporter": "python",
   "pygments_lexer": "ipython3",
   "version": "3.7.0"
  }
 },
 "nbformat": 4,
 "nbformat_minor": 2
}
