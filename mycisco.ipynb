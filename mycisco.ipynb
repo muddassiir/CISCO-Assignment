{
 "cells": [
  {
   "cell_type": "code",
   "execution_count": 1,
   "metadata": {},
   "outputs": [
    {
     "name": "stdout",
     "output_type": "stream",
     "text": [
      "Enter Calculas Marks : 78\n",
      "Enter English Marks : 89\n",
      "Enter Maths Marks : 79\n",
      "Enter Islamiyat Marks : 89\n",
      "Enter Computer Science Marks : 96\n",
      "86.2 %\n",
      "A+\n"
     ]
    }
   ],
   "source": [
    "cal=int(input(\"Enter Calculas Marks : \"))\n",
    "while cal > 100:\n",
    "    print(\"Please enter correct marks\")\n",
    "    cal=int(input(\"Enter Calculas Marks : \"))\n",
    "eng=int(input(\"Enter English Marks : \"))\n",
    "while eng > 100:\n",
    "    print(\"Please enter correct marks\")\n",
    "    eng=int(input(\"Enter English Marks : \"))\n",
    "math=int(input(\"Enter Maths Marks : \"))\n",
    "while math > 100:\n",
    "    print(\"Please enter correct marks\")\n",
    "    math=int(input(\"Enter Maths Marks : \"))\n",
    "isl=int(input(\"Enter Islamiyat Marks : \"))\n",
    "while isl > 100:\n",
    "    print(\"Please enter correct marks\")\n",
    "    isl=int(input(\"Enter Islamiyat Marks : \"))\n",
    "cs=int(input(\"Enter Computer Science Marks : \"))\n",
    "while cs > 100:\n",
    "    print(\"Please enter correct marks\")\n",
    "    cs=int(input(\"Enter Computer Science Marks : \"))\n",
    "obt_marks=cal+eng+math+isl+cs\n",
    "grade = \"Fail\"\n",
    "per=obt_marks*100/500\n",
    "if per >=80.0 and per <= 100.0:\n",
    "    grade = \"A+\"\n",
    "elif per >=70.0 and per < 80.0:\n",
    "    grade = \"A\"\n",
    "elif per >=60.0 and per < 70.0:\n",
    "    grade = \"B\"\n",
    "elif per >=50.0 and per < 60.0:\n",
    "    grade = \"C\"\n",
    "elif per >=40.0 and per < 50.0:\n",
    "    grade = \"D\"\n",
    "else:\n",
    "    grade = \"Fail\"\n",
    "print(per,\"%\")\n",
    "print(grade)"
   ]
  },
  {
   "cell_type": "code",
   "execution_count": 2,
   "metadata": {},
   "outputs": [
    {
     "name": "stdout",
     "output_type": "stream",
     "text": [
      "Enter a number5\n",
      "This is an odd number\n"
     ]
    }
   ],
   "source": [
    "num=int(input(\"Enter a number\"))\n",
    "if num % 2 == 0:\n",
    "    print(\"This is an even number\")\n",
    "else:\n",
    "    print(\"This is an odd number\")"
   ]
  },
  {
   "cell_type": "code",
   "execution_count": 3,
   "metadata": {},
   "outputs": [
    {
     "name": "stdout",
     "output_type": "stream",
     "text": [
      "6\n"
     ]
    }
   ],
   "source": [
    "my_list=[\"raza\",6,19,\"abid\",\"034\",\"ali\"]\n",
    "print(len(my_list))"
   ]
  },
  {
   "cell_type": "code",
   "execution_count": 4,
   "metadata": {},
   "outputs": [
    {
     "data": {
      "text/plain": [
       "15"
      ]
     },
     "execution_count": 4,
     "metadata": {},
     "output_type": "execute_result"
    }
   ],
   "source": [
    "lst=[\"2\",6,4,\"ali\",3,\"Pak\",0,2]\n",
    "new_lst=[]\n",
    "for i in lst:\n",
    "    if type(i)==int:\n",
    "        new_lst.append(i)\n",
    "sum(new_lst)"
   ]
  },
  {
   "cell_type": "code",
   "execution_count": 5,
   "metadata": {},
   "outputs": [
    {
     "name": "stdout",
     "output_type": "stream",
     "text": [
      "[2, 2, 3, 4, 6, 12, 56, 67, 98]\n"
     ]
    },
    {
     "data": {
      "text/plain": [
       "98"
      ]
     },
     "execution_count": 5,
     "metadata": {},
     "output_type": "execute_result"
    }
   ],
   "source": [
    "my_list=[2,67,2,56,12,98,3,4,6]\n",
    "my_list.sort()\n",
    "print(my_list)\n",
    "my_list[-1]"
   ]
  },
  {
   "cell_type": "code",
   "execution_count": 6,
   "metadata": {},
   "outputs": [
    {
     "name": "stdout",
     "output_type": "stream",
     "text": [
      "2\n",
      "3\n",
      "4\n",
      "1\n"
     ]
    }
   ],
   "source": [
    "my_list=[2,3,4,5,6,23,45,1,78,31]\n",
    "for i in my_list:\n",
    "    if i < 5:\n",
    "        print(i)"
   ]
  },
  {
   "cell_type": "code",
   "execution_count": null,
   "metadata": {},
   "outputs": [],
   "source": []
  }
 ],
 "metadata": {
  "kernelspec": {
   "display_name": "Python 3",
   "language": "python",
   "name": "python3"
  },
  "language_info": {
   "codemirror_mode": {
    "name": "ipython",
    "version": 3
   },
   "file_extension": ".py",
   "mimetype": "text/x-python",
   "name": "python",
   "nbconvert_exporter": "python",
   "pygments_lexer": "ipython3",
   "version": "3.7.0"
  }
 },
 "nbformat": 4,
 "nbformat_minor": 2
}
